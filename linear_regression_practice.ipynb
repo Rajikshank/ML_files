{
  "nbformat": 4,
  "nbformat_minor": 0,
  "metadata": {
    "colab": {
      "provenance": [],
      "authorship_tag": "ABX9TyO6s9d0my8updQkBWKBuZM1",
      "include_colab_link": true
    },
    "kernelspec": {
      "name": "python3",
      "display_name": "Python 3"
    },
    "language_info": {
      "name": "python"
    }
  },
  "cells": [
    {
      "cell_type": "markdown",
      "metadata": {
        "id": "view-in-github",
        "colab_type": "text"
      },
      "source": [
        "<a href=\"https://colab.research.google.com/github/Rajikshank/ML_files/blob/main/linear_regression_practice.ipynb\" target=\"_parent\"><img src=\"https://colab.research.google.com/assets/colab-badge.svg\" alt=\"Open In Colab\"/></a>"
      ]
    },
    {
      "cell_type": "code",
      "execution_count": 8,
      "metadata": {
        "id": "pgdNhRkaOffK"
      },
      "outputs": [],
      "source": [
        "import pandas as pd\n",
        "import numpy as np\n",
        "import copy, math\n",
        "import matplotlib.pyplot as plt"
      ]
    },
    {
      "cell_type": "markdown",
      "source": [
        "Here we are computing the cost using mean squared error\n",
        "m=number of input values\n",
        "\n",
        "# cost=1/2*m total_sum(predicted_value-actual_value)^2 **bold text**"
      ],
      "metadata": {
        "id": "-VQ5kjD_h0YI"
      }
    },
    {
      "cell_type": "code",
      "source": [
        "def compute_cost(x,y,w,b):\n",
        "  m=x.shape\n",
        "  for i in range(m):\n",
        "    f_x=np.dot(x[i],w)+b\n",
        "    cost=cost+(f_x-y[i])**2\n",
        "  cost=cost/2*m\n",
        "  return cost"
      ],
      "metadata": {
        "id": "k2NQChPbOojC"
      },
      "execution_count": 3,
      "outputs": []
    },
    {
      "cell_type": "code",
      "source": [
        "def compute_gradient(x,y,w,b):\n",
        "  m,n=x.shape\n",
        "  dj_dw=np.zeros(m)\n",
        "  dj_db=0\n",
        "\n",
        "  for i in range(m):\n",
        "    err=(np.dot(x[i],w)+b)-y[i]\n",
        "    for j in range(n):\n",
        "      dj_dw[j]=dj_dw[j]+err*x[i][j] #multiplying every value in x vector by the error\n",
        "    dj_db=dj_db+err\n",
        "\n",
        "  dj_dw=dj_dw/m\n",
        "  dj_db=dj_db/m\n",
        "\n",
        "  return dj_db,dj_dw\n",
        "\n"
      ],
      "metadata": {
        "id": "zLjnRVf4Vohv"
      },
      "execution_count": 5,
      "outputs": []
    },
    {
      "cell_type": "code",
      "source": [
        "def compute_gradient_descent(X, y, w_in, b_in, cost_function, gradient_function, alpha, num_iters):\n",
        "    J_history = []\n",
        "    w = copy.deepcopy(w_in)  #avoid modifying global w within function\n",
        "    b = b_in\n",
        "\n",
        "    for i in range(num_iters):\n",
        "\n",
        "      dj_db,dj_dw=gradient_function(X,y,w,b)\n",
        "      w=w-(alpha*dj_dw)\n",
        "      b=b-(alpha*dj_db)\n",
        "\n",
        "\n",
        "      if i<10000:\n",
        "         J_history.append( cost_function(X, y, w, b))\n",
        "\n",
        "      if i % math.ceil(num_iters / 10)==0:\n",
        "        print(f\"Iteration {i:4d}: Cost {J_history[-1]:8.2f}   \")\n",
        "\n",
        "    return w, b, J_history\n"
      ],
      "metadata": {
        "id": "5sydjylnVsiF"
      },
      "execution_count": 6,
      "outputs": []
    },
    {
      "cell_type": "code",
      "source": [
        "# initialize parameters\n",
        "initial_w = np.zeros_like(w_init)\n",
        "initial_b = 0.\n",
        "# some gradient descent settings\n",
        "iterations = 1000\n",
        "alpha = 5.0e-7\n",
        "# run gradient descent\n",
        "w_final, b_final, J_hist = gradient_descent(X_train, y_train, initial_w, initial_b,\n",
        "                                                    compute_cost, compute_gradient,\n",
        "                                                    alpha, iterations)\n",
        "print(f\"b,w found by gradient descent: {b_final:0.2f},{w_final} \")\n",
        "m,_ = X_train.shape\n",
        "for i in range(m):\n",
        "    print(f\"prediction: {np.dot(X_train[i], w_final) + b_final:0.2f}, target value: {y_train[i]}\")"
      ],
      "metadata": {
        "id": "hU_d5l9AdtPs"
      },
      "execution_count": null,
      "outputs": []
    },
    {
      "cell_type": "code",
      "source": [
        "def predict(x,w,b):\n",
        "\n",
        "  return np.dot(x,w)+b"
      ],
      "metadata": {
        "id": "PMhY4qT_ing8"
      },
      "execution_count": null,
      "outputs": []
    }
  ]
}